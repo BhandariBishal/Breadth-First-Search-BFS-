{
 "cells": [
  {
   "cell_type": "code",
   "execution_count": 16,
   "metadata": {},
   "outputs": [],
   "source": [
    "# Import deque from collections for efficient queue operations\n",
    "from collections import deque\n",
    "\n",
    "def bfs(graph, start_node):\n",
    "    \"\"\"\n",
    "    Performs Breadth First Search on a graph starting from start_node\n",
    "    Args:\n",
    "        graph: Dictionary representing the graph\n",
    "        start_node: Starting node for BFS\n",
    "    Returns:\n",
    "        List of nodes in the order they were visited\n",
    "    \"\"\"\n",
    "    # Initialize a queue for BFS using deque\n",
    "    queue = deque([start_node])\n",
    "    \n",
    "    # Keep track of visited nodes to avoid cycles\n",
    "    visited = []\n",
    "    \n",
    "    # Continue BFS as long as there are nodes in the queue\n",
    "    while queue:\n",
    "        # Remove and return the first node from queue\n",
    "        current_node = queue.popleft()\n",
    "        \n",
    "        # If we haven't visited this node before\n",
    "        if current_node not in visited:\n",
    "            # Add it to visited list\n",
    "            visited.append(current_node)\n",
    "            \n",
    "            # Add all unvisited neighbors to the queue\n",
    "            # graph[current_node] gives us all neighbors of current_node\n",
    "            for neighbor in graph[current_node]:\n",
    "                if neighbor not in visited:\n",
    "                    queue.append(neighbor)\n",
    "    \n",
    "    return visited\n",
    "    "
   ]
  },
  {
   "cell_type": "code",
   "execution_count": 17,
   "metadata": {},
   "outputs": [
    {
     "name": "stdout",
     "output_type": "stream",
     "text": [
      "BFS traversal starting from vertex 'A':\n",
      "A -> B -> C -> D -> E -> F\n"
     ]
    }
   ],
   "source": [
    "# Example usage\n",
    "if __name__ == \"__main__\":\n",
    "    # Define a sample graph using dictionary\n",
    "    # Each key represents a node, and its value is a list of its neighbors\n",
    "    graph = {\n",
    "        'A': ['B', 'C'],\n",
    "        'B': ['A', 'D', 'E'],\n",
    "        'C': ['A', 'F'],\n",
    "        'D': ['B'],\n",
    "        'E': ['B', 'F'],\n",
    "        'F': ['C', 'E']\n",
    "    }\n",
    "    \n",
    "    # Start BFS from node 'A'\n",
    "    result = bfs(graph, 'A')\n",
    "    \n",
    "    # Print the order in which nodes were visited\n",
    "    print(\"BFS traversal starting from vertex 'A':\")\n",
    "    print(\" -> \".join(result))"
   ]
  },
  {
   "cell_type": "code",
   "execution_count": null,
   "metadata": {},
   "outputs": [],
   "source": []
  }
 ],
 "metadata": {
  "kernelspec": {
   "display_name": "Python 3",
   "language": "python",
   "name": "python3"
  },
  "language_info": {
   "codemirror_mode": {
    "name": "ipython",
    "version": 3
   },
   "file_extension": ".py",
   "mimetype": "text/x-python",
   "name": "python",
   "nbconvert_exporter": "python",
   "pygments_lexer": "ipython3",
   "version": "3.7.16"
  }
 },
 "nbformat": 4,
 "nbformat_minor": 4
}
